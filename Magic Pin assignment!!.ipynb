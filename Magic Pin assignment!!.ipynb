{
 "cells": [
  {
   "cell_type": "markdown",
   "metadata": {},
   "source": [
    "magicpin is India’s #1 savings app. No exaggerations.\n",
    "\n",
    "We are on a mission to make hyperlocal magical. And with more than 1.5 lakh merchant partners and 5 million+ users across a dozen cities, we know a thing or two about scale.\n",
    "\n",
    "Here’s how it works: Pin a location on the map to find the coolest people in the neighbourhood and where they hang out - cafes, restaurants, trendy fashion boutiques, luxurious spas, and health clubs. Find the buzz in your locality through our user generated pictures, videos, and reviews to discover interesting people and places and get cashback/rewards for visiting those places. Yes, including your local grocery stores and pharmacies.\n",
    "\n",
    "magicpin drives discovery that leads to business for local retailers across categories like restaurants, fashion, beauty, grocery, spa, gyms, and more. For their spending, users get rewarded in magicPoints that can be used to buy more services and experiences at magicpin partner merchants (or you can magicOrder from the comfort of your home!) magicPoints can be earned at ALL stores in a city, and it doesn’t matter whether you pay through cash, credit/debit card or e-wallet.\n",
    "\n",
    "Our users can tap into our community, known as “magicians”, who have their finger on the pulse of their city’s neighbourhoods. Their picture stories inspire other users to have those experiences. For retailers and brands, magicpin is the go-to platform to reach out to relevant local customers, highlight their uniqueness, reward loyal customers through magicPoints and vouchers, run real-time promotions, augmented reality games, micro-influencer campaigns and more.\n",
    "\n",
    "magicpin builds engagement and visibility for its partner retailers and brands to help drive up their new and repeat business.\n",
    "\n",
    "magicpin is by far the leader in offline marketing for retailers in India. We are live in Gurgaon, Noida, Bangalore, Mumbai, Pune, Hyderabad, Chandigarh, Jaipur, Goa, Chennai, Ahmedabad and is quickly spreading to more cities and countries."
   ]
  },
  {
   "cell_type": "markdown",
   "metadata": {},
   "source": [
    "### Questions to solve!?\n",
    "\n",
    "1) What should be the ideal time of day, where we should push our promotions? Which are the best localities to have the promotions between 12 PM to 4 PM time window? \n",
    "\n",
    "2) In which localities should magcipin push to acquire more users i.e. where is magicpin getting more business but not getting new users. Name 10 such localities and share the step by step approach for the same? \n",
    "\n",
    "3)Repeat rate: Users who have done their first transaction today and does another transaction in the next 7 days(D7 repeat), Next 15 days(D15 repeat). What is the repeat rate of new users in the system, Share the stepwise approach you took? \n",
    "\n",
    "4)Based on the above observations, what will be your top 3 recommendations on increasing transactions on the platform and why?"
   ]
  },
  {
   "cell_type": "markdown",
   "metadata": {},
   "source": [
    "### Feature descriptioons!!\n",
    "\n",
    "First transaction - 0, 1 - 0 means not the first transaction (repeat user), 1 means first transaction (new user)\n",
    "\n",
    "Funding transaction - Transaction took place at a merchant who is our partner (has paid us money to drive business)\n",
    "\n",
    "Bill Size - Size of the bill\n",
    "Cashback - Cashback amount that the customer gets\n",
    "\n",
    "Followers - Followers of the customer"
   ]
  },
  {
   "cell_type": "code",
   "execution_count": 1,
   "metadata": {},
   "outputs": [],
   "source": [
    "import pandas as pd\n",
    "import numpy as np\n",
    "import matplotlib.pyplot as plt\n",
    "import seaborn as sns\n",
    "%matplotlib inline"
   ]
  },
  {
   "cell_type": "code",
   "execution_count": 2,
   "metadata": {},
   "outputs": [
    {
     "data": {
      "text/plain": [
       "'C:\\\\Users\\\\shaqu\\\\Desktop\\\\company questionaires\\\\MagicPin'"
      ]
     },
     "execution_count": 2,
     "metadata": {},
     "output_type": "execute_result"
    }
   ],
   "source": [
    "pwd"
   ]
  },
  {
   "cell_type": "code",
   "execution_count": 3,
   "metadata": {},
   "outputs": [
    {
     "data": {
      "text/html": [
       "<div>\n",
       "<style scoped>\n",
       "    .dataframe tbody tr th:only-of-type {\n",
       "        vertical-align: middle;\n",
       "    }\n",
       "\n",
       "    .dataframe tbody tr th {\n",
       "        vertical-align: top;\n",
       "    }\n",
       "\n",
       "    .dataframe thead th {\n",
       "        text-align: right;\n",
       "    }\n",
       "</style>\n",
       "<table border=\"1\" class=\"dataframe\">\n",
       "  <thead>\n",
       "    <tr style=\"text-align: right;\">\n",
       "      <th></th>\n",
       "      <th>ID</th>\n",
       "      <th>customer_id</th>\n",
       "      <th>merchant_id</th>\n",
       "      <th>merchant_name</th>\n",
       "      <th>trxn_locality</th>\n",
       "      <th>home_locality</th>\n",
       "      <th>work_locality</th>\n",
       "      <th>date</th>\n",
       "      <th>time</th>\n",
       "      <th>first transaction?</th>\n",
       "      <th>funding trxn?</th>\n",
       "      <th>bill size</th>\n",
       "      <th>cashback</th>\n",
       "      <th>followers</th>\n",
       "    </tr>\n",
       "  </thead>\n",
       "  <tbody>\n",
       "    <tr>\n",
       "      <td>0</td>\n",
       "      <td>4482549</td>\n",
       "      <td>948930</td>\n",
       "      <td>2722</td>\n",
       "      <td>McDonald's</td>\n",
       "      <td>Sector 18</td>\n",
       "      <td>Chandkheda</td>\n",
       "      <td>Chandkheda</td>\n",
       "      <td>2017-11-15</td>\n",
       "      <td>04:27:39</td>\n",
       "      <td>0</td>\n",
       "      <td>0</td>\n",
       "      <td>129.8</td>\n",
       "      <td>50.0</td>\n",
       "      <td>7580</td>\n",
       "    </tr>\n",
       "    <tr>\n",
       "      <td>1</td>\n",
       "      <td>4482551</td>\n",
       "      <td>1110785</td>\n",
       "      <td>260571</td>\n",
       "      <td>JMart</td>\n",
       "      <td>Sector 45</td>\n",
       "      <td>Sector 48</td>\n",
       "      <td>Sector 135</td>\n",
       "      <td>2017-11-15</td>\n",
       "      <td>04:39:47</td>\n",
       "      <td>0</td>\n",
       "      <td>0</td>\n",
       "      <td>4329.0</td>\n",
       "      <td>30.0</td>\n",
       "      <td>8627</td>\n",
       "    </tr>\n",
       "    <tr>\n",
       "      <td>2</td>\n",
       "      <td>4482552</td>\n",
       "      <td>1130583</td>\n",
       "      <td>54220</td>\n",
       "      <td>Gallery cafe - Hyatt Place</td>\n",
       "      <td>Sector 18</td>\n",
       "      <td>Kalbadevi</td>\n",
       "      <td>Andheri East</td>\n",
       "      <td>2017-11-15</td>\n",
       "      <td>04:43:54</td>\n",
       "      <td>1</td>\n",
       "      <td>0</td>\n",
       "      <td>25600.0</td>\n",
       "      <td>10.0</td>\n",
       "      <td>5396</td>\n",
       "    </tr>\n",
       "    <tr>\n",
       "      <td>3</td>\n",
       "      <td>4482559</td>\n",
       "      <td>1087586</td>\n",
       "      <td>177490</td>\n",
       "      <td>Railway Yard, The Mid Night Cafe</td>\n",
       "      <td>Ashok Vihar</td>\n",
       "      <td>Ashok Vihar Phase 3</td>\n",
       "      <td>Rana Pratap Bagh</td>\n",
       "      <td>2017-11-15</td>\n",
       "      <td>05:05:04</td>\n",
       "      <td>0</td>\n",
       "      <td>0</td>\n",
       "      <td>2317.0</td>\n",
       "      <td>10.0</td>\n",
       "      <td>8251</td>\n",
       "    </tr>\n",
       "    <tr>\n",
       "      <td>4</td>\n",
       "      <td>4482560</td>\n",
       "      <td>1024798</td>\n",
       "      <td>264552</td>\n",
       "      <td>Twenty Four Seven Convenience Store</td>\n",
       "      <td>Saket</td>\n",
       "      <td>Saket</td>\n",
       "      <td>Saket</td>\n",
       "      <td>2017-11-15</td>\n",
       "      <td>05:10:07</td>\n",
       "      <td>0</td>\n",
       "      <td>0</td>\n",
       "      <td>1000.0</td>\n",
       "      <td>30.0</td>\n",
       "      <td>9766</td>\n",
       "    </tr>\n",
       "  </tbody>\n",
       "</table>\n",
       "</div>"
      ],
      "text/plain": [
       "        ID  customer_id  merchant_id                        merchant_name  \\\n",
       "0  4482549       948930         2722                           McDonald's   \n",
       "1  4482551      1110785       260571                                JMart   \n",
       "2  4482552      1130583        54220           Gallery cafe - Hyatt Place   \n",
       "3  4482559      1087586       177490     Railway Yard, The Mid Night Cafe   \n",
       "4  4482560      1024798       264552  Twenty Four Seven Convenience Store   \n",
       "\n",
       "  trxn_locality        home_locality     work_locality       date      time  \\\n",
       "0     Sector 18           Chandkheda        Chandkheda 2017-11-15  04:27:39   \n",
       "1     Sector 45            Sector 48        Sector 135 2017-11-15  04:39:47   \n",
       "2     Sector 18            Kalbadevi      Andheri East 2017-11-15  04:43:54   \n",
       "3   Ashok Vihar  Ashok Vihar Phase 3  Rana Pratap Bagh 2017-11-15  05:05:04   \n",
       "4         Saket                Saket             Saket 2017-11-15  05:10:07   \n",
       "\n",
       "   first transaction?  funding trxn?  bill size  cashback  followers  \n",
       "0                   0              0      129.8      50.0       7580  \n",
       "1                   0              0     4329.0      30.0       8627  \n",
       "2                   1              0    25600.0      10.0       5396  \n",
       "3                   0              0     2317.0      10.0       8251  \n",
       "4                   0              0     1000.0      30.0       9766  "
      ]
     },
     "execution_count": 3,
     "metadata": {},
     "output_type": "execute_result"
    }
   ],
   "source": [
    "df= pd.read_excel('magicpin assignment (1).xlsx', parse_dates=True)\n",
    "df.head()"
   ]
  },
  {
   "cell_type": "code",
   "execution_count": 4,
   "metadata": {},
   "outputs": [
    {
     "name": "stdout",
     "output_type": "stream",
     "text": [
      "<class 'pandas.core.frame.DataFrame'>\n",
      "RangeIndex: 247591 entries, 0 to 247590\n",
      "Data columns (total 14 columns):\n",
      "ID                    247591 non-null int64\n",
      "customer_id           247591 non-null int64\n",
      "merchant_id           247591 non-null int64\n",
      "merchant_name         247591 non-null object\n",
      "trxn_locality         247591 non-null object\n",
      "home_locality         247591 non-null object\n",
      "work_locality         247591 non-null object\n",
      "date                  247591 non-null datetime64[ns]\n",
      "time                  247591 non-null object\n",
      "first transaction?    247591 non-null int64\n",
      "funding trxn?         247591 non-null int64\n",
      "bill size             247591 non-null float64\n",
      "cashback              247590 non-null float64\n",
      "followers             247591 non-null int64\n",
      "dtypes: datetime64[ns](1), float64(2), int64(6), object(5)\n",
      "memory usage: 26.4+ MB\n"
     ]
    }
   ],
   "source": [
    "df.info()"
   ]
  },
  {
   "cell_type": "code",
   "execution_count": 5,
   "metadata": {},
   "outputs": [
    {
     "data": {
      "text/html": [
       "<div>\n",
       "<style scoped>\n",
       "    .dataframe tbody tr th:only-of-type {\n",
       "        vertical-align: middle;\n",
       "    }\n",
       "\n",
       "    .dataframe tbody tr th {\n",
       "        vertical-align: top;\n",
       "    }\n",
       "\n",
       "    .dataframe thead th {\n",
       "        text-align: right;\n",
       "    }\n",
       "</style>\n",
       "<table border=\"1\" class=\"dataframe\">\n",
       "  <thead>\n",
       "    <tr style=\"text-align: right;\">\n",
       "      <th></th>\n",
       "      <th>ID</th>\n",
       "      <th>customer_id</th>\n",
       "      <th>merchant_id</th>\n",
       "      <th>first transaction?</th>\n",
       "      <th>funding trxn?</th>\n",
       "      <th>bill size</th>\n",
       "      <th>cashback</th>\n",
       "      <th>followers</th>\n",
       "    </tr>\n",
       "  </thead>\n",
       "  <tbody>\n",
       "    <tr>\n",
       "      <td>count</td>\n",
       "      <td>2.475910e+05</td>\n",
       "      <td>2.475910e+05</td>\n",
       "      <td>247591.000000</td>\n",
       "      <td>247591.000000</td>\n",
       "      <td>247591.000000</td>\n",
       "      <td>247591.000000</td>\n",
       "      <td>247590.000000</td>\n",
       "      <td>247591.000000</td>\n",
       "    </tr>\n",
       "    <tr>\n",
       "      <td>mean</td>\n",
       "      <td>4.670815e+06</td>\n",
       "      <td>8.221916e+05</td>\n",
       "      <td>136827.268988</td>\n",
       "      <td>0.100662</td>\n",
       "      <td>0.073298</td>\n",
       "      <td>817.401965</td>\n",
       "      <td>30.904070</td>\n",
       "      <td>5000.981865</td>\n",
       "    </tr>\n",
       "    <tr>\n",
       "      <td>std</td>\n",
       "      <td>1.082548e+05</td>\n",
       "      <td>3.345909e+05</td>\n",
       "      <td>109197.512474</td>\n",
       "      <td>0.300881</td>\n",
       "      <td>0.260626</td>\n",
       "      <td>2186.034815</td>\n",
       "      <td>35.046481</td>\n",
       "      <td>2886.365406</td>\n",
       "    </tr>\n",
       "    <tr>\n",
       "      <td>min</td>\n",
       "      <td>4.482549e+06</td>\n",
       "      <td>2.400000e+01</td>\n",
       "      <td>456.000000</td>\n",
       "      <td>0.000000</td>\n",
       "      <td>0.000000</td>\n",
       "      <td>6.000000</td>\n",
       "      <td>0.000000</td>\n",
       "      <td>1.000000</td>\n",
       "    </tr>\n",
       "    <tr>\n",
       "      <td>25%</td>\n",
       "      <td>4.576862e+06</td>\n",
       "      <td>5.807600e+05</td>\n",
       "      <td>16269.000000</td>\n",
       "      <td>0.000000</td>\n",
       "      <td>0.000000</td>\n",
       "      <td>186.000000</td>\n",
       "      <td>9.000000</td>\n",
       "      <td>2500.000000</td>\n",
       "    </tr>\n",
       "    <tr>\n",
       "      <td>50%</td>\n",
       "      <td>4.670645e+06</td>\n",
       "      <td>9.464360e+05</td>\n",
       "      <td>102299.000000</td>\n",
       "      <td>0.000000</td>\n",
       "      <td>0.000000</td>\n",
       "      <td>378.000000</td>\n",
       "      <td>22.000000</td>\n",
       "      <td>5011.000000</td>\n",
       "    </tr>\n",
       "    <tr>\n",
       "      <td>75%</td>\n",
       "      <td>4.763772e+06</td>\n",
       "      <td>1.109921e+06</td>\n",
       "      <td>242662.000000</td>\n",
       "      <td>0.000000</td>\n",
       "      <td>0.000000</td>\n",
       "      <td>793.000000</td>\n",
       "      <td>44.000000</td>\n",
       "      <td>7498.000000</td>\n",
       "    </tr>\n",
       "    <tr>\n",
       "      <td>max</td>\n",
       "      <td>4.861247e+06</td>\n",
       "      <td>1.192475e+06</td>\n",
       "      <td>407529.000000</td>\n",
       "      <td>1.000000</td>\n",
       "      <td>1.000000</td>\n",
       "      <td>453285.000000</td>\n",
       "      <td>425.000000</td>\n",
       "      <td>10000.000000</td>\n",
       "    </tr>\n",
       "  </tbody>\n",
       "</table>\n",
       "</div>"
      ],
      "text/plain": [
       "                 ID   customer_id    merchant_id  first transaction?  \\\n",
       "count  2.475910e+05  2.475910e+05  247591.000000       247591.000000   \n",
       "mean   4.670815e+06  8.221916e+05  136827.268988            0.100662   \n",
       "std    1.082548e+05  3.345909e+05  109197.512474            0.300881   \n",
       "min    4.482549e+06  2.400000e+01     456.000000            0.000000   \n",
       "25%    4.576862e+06  5.807600e+05   16269.000000            0.000000   \n",
       "50%    4.670645e+06  9.464360e+05  102299.000000            0.000000   \n",
       "75%    4.763772e+06  1.109921e+06  242662.000000            0.000000   \n",
       "max    4.861247e+06  1.192475e+06  407529.000000            1.000000   \n",
       "\n",
       "       funding trxn?      bill size       cashback      followers  \n",
       "count  247591.000000  247591.000000  247590.000000  247591.000000  \n",
       "mean        0.073298     817.401965      30.904070    5000.981865  \n",
       "std         0.260626    2186.034815      35.046481    2886.365406  \n",
       "min         0.000000       6.000000       0.000000       1.000000  \n",
       "25%         0.000000     186.000000       9.000000    2500.000000  \n",
       "50%         0.000000     378.000000      22.000000    5011.000000  \n",
       "75%         0.000000     793.000000      44.000000    7498.000000  \n",
       "max         1.000000  453285.000000     425.000000   10000.000000  "
      ]
     },
     "execution_count": 5,
     "metadata": {},
     "output_type": "execute_result"
    }
   ],
   "source": [
    "df.describe()"
   ]
  },
  {
   "cell_type": "code",
   "execution_count": 6,
   "metadata": {},
   "outputs": [
    {
     "data": {
      "text/plain": [
       "ID                    0\n",
       "customer_id           0\n",
       "merchant_id           0\n",
       "merchant_name         0\n",
       "trxn_locality         0\n",
       "home_locality         0\n",
       "work_locality         0\n",
       "date                  0\n",
       "time                  0\n",
       "first transaction?    0\n",
       "funding trxn?         0\n",
       "bill size             0\n",
       "cashback              1\n",
       "followers             0\n",
       "dtype: int64"
      ]
     },
     "execution_count": 6,
     "metadata": {},
     "output_type": "execute_result"
    }
   ],
   "source": [
    "df.isna().sum()"
   ]
  },
  {
   "cell_type": "markdown",
   "metadata": {},
   "source": [
    "### 1) What should be the ideal time of day, where we should push our promotions? Which are the best localities to have the promotions between 12 PM to 4 PM time window?"
   ]
  },
  {
   "cell_type": "code",
   "execution_count": 7,
   "metadata": {},
   "outputs": [],
   "source": [
    "import datetime"
   ]
  },
  {
   "cell_type": "code",
   "execution_count": 8,
   "metadata": {},
   "outputs": [
    {
     "data": {
      "text/plain": [
       "0         04:27:39\n",
       "1         04:39:47\n",
       "2         04:43:54\n",
       "3         05:05:04\n",
       "4         05:10:07\n",
       "            ...   \n",
       "247586    23:59:07\n",
       "247587    23:59:39\n",
       "247588    23:59:56\n",
       "247589    23:59:57\n",
       "247590    23:59:58\n",
       "Name: time, Length: 247591, dtype: object"
      ]
     },
     "execution_count": 8,
     "metadata": {},
     "output_type": "execute_result"
    }
   ],
   "source": [
    "df['time']"
   ]
  },
  {
   "cell_type": "code",
   "execution_count": 9,
   "metadata": {
    "scrolled": true
   },
   "outputs": [],
   "source": [
    "#datetime.datetime.strptime(df['time'], \"%H:%M:%S\")"
   ]
  },
  {
   "cell_type": "code",
   "execution_count": 10,
   "metadata": {},
   "outputs": [
    {
     "data": {
      "text/plain": [
       "array(['04', '04', '04', ..., '23', '23', '23'], dtype=object)"
      ]
     },
     "execution_count": 10,
     "metadata": {},
     "output_type": "execute_result"
    }
   ],
   "source": [
    "## how to convert time format into hours!!\n",
    "\n",
    "hours= df['time'].apply(lambda x: x.strftime('%H'))\n",
    "hours.values"
   ]
  },
  {
   "cell_type": "code",
   "execution_count": 11,
   "metadata": {},
   "outputs": [
    {
     "data": {
      "text/plain": [
       "time\n",
       "19    2447\n",
       "20    2587\n",
       "21    2517\n",
       "22    1659\n",
       "23     809\n",
       "Name: first transaction?, dtype: int64"
      ]
     },
     "execution_count": 11,
     "metadata": {},
     "output_type": "execute_result"
    }
   ],
   "source": [
    "## grouping the first traction wiht hourly distribution!!\n",
    "\n",
    "trac1_hour= df['first transaction?'].groupby(hours).sum()\n",
    "trac1_hour.tail()"
   ]
  },
  {
   "cell_type": "code",
   "execution_count": 12,
   "metadata": {},
   "outputs": [
    {
     "data": {
      "text/plain": [
       "<matplotlib.axes._subplots.AxesSubplot at 0x18ce21bd648>"
      ]
     },
     "execution_count": 12,
     "metadata": {},
     "output_type": "execute_result"
    },
    {
     "data": {
      "image/png": "[encoded data removed]",
      "text/plain": [
       "<Figure size 432x288 with 1 Axes>"
      ]
     },
     "metadata": {
      "needs_background": "light"
     },
     "output_type": "display_data"
    }
   ],
   "source": [
    "trac1_hour.plot(kind='bar')"
   ]
  },
  {
   "cell_type": "markdown",
   "metadata": {},
   "source": [
    "Majority of the first tractions done during the evening time when the people goes outside for some snacks and dinner!\n",
    "\n",
    "from 2pm to 10pm oour customers are generally high as this is the they use digital payment method for their meals and snacks in different restraurants and cafeterias!\n",
    "\n",
    "and the highest first tractions is also go for around 2500 which means some group of friends also uses ouor service not just individually!\n"
   ]
  },
  {
   "cell_type": "code",
   "execution_count": 13,
   "metadata": {
    "scrolled": true
   },
   "outputs": [
    {
     "data": {
      "text/plain": [
       "time\n",
       "00    4024337.86\n",
       "01    1148503.45\n",
       "02     432480.83\n",
       "03     276246.51\n",
       "04     156148.63\n",
       "Name: bill size, dtype: float64"
      ]
     },
     "execution_count": 13,
     "metadata": {},
     "output_type": "execute_result"
    }
   ],
   "source": [
    "bill_hour= df['bill size'].groupby(hours).sum()\n",
    "bill_hour.head()"
   ]
  },
  {
   "cell_type": "code",
   "execution_count": 14,
   "metadata": {},
   "outputs": [
    {
     "data": {
      "text/plain": [
       "<matplotlib.axes._subplots.AxesSubplot at 0x18ce2508a88>"
      ]
     },
     "execution_count": 14,
     "metadata": {},
     "output_type": "execute_result"
    },
    {
     "data": {
      "image/png": "[encoded data removed]",
      "text/plain": [
       "<Figure size 432x288 with 1 Axes>"
      ]
     },
     "metadata": {
      "needs_background": "light"
     },
     "output_type": "display_data"
    }
   ],
   "source": [
    "bill_hour.plot()"
   ]
  },
  {
   "cell_type": "code",
   "execution_count": 15,
   "metadata": {},
   "outputs": [
    {
     "data": {
      "text/plain": [
       "<matplotlib.axes._subplots.AxesSubplot at 0x18ce25f10c8>"
      ]
     },
     "execution_count": 15,
     "metadata": {},
     "output_type": "execute_result"
    },
    {
     "data": {
      "image/png": "[encoded data removed]",
      "text/plain": [
       "<Figure size 432x288 with 1 Axes>"
      ]
     },
     "metadata": {
      "needs_background": "light"
     },
     "output_type": "display_data"
    }
   ],
   "source": [
    "bill_hour.plot(kind='bar')"
   ]
  },
  {
   "cell_type": "markdown",
   "metadata": {},
   "source": [
    "In the above graph we have showed that from 2pm there is a exponentioal increase in the bill_size of our magic pin budget.\n",
    "\n",
    "and it goes to peak during evening till night around 6pm to 9:30 pm because most of the customers goes to restaurants for having meals and snacks during evening.\n",
    "\n",
    "So we can also conclude that our main customers come during evening time. And we can target them during evening more easily!!"
   ]
  },
  {
   "cell_type": "markdown",
   "metadata": {},
   "source": [
    "#### Grouping the localitites with hours so that we can identify which locality is the best place to promote our promotions between 12 pm to 16pm!!"
   ]
  },
  {
   "cell_type": "code",
   "execution_count": 16,
   "metadata": {},
   "outputs": [
    {
     "data": {
      "text/plain": [
       "time\n",
       "00    HinjawadiKarve NagarNITMalad WestMahipalpurMSX...\n",
       "01    Vile Parle WestSushant Lok 2KharUttam NagarMum...\n",
       "02    Sector 39DT Mega MallMagadi RoadMahimMahimMahi...\n",
       "03    Sector 18JangpuraAsaf Ali RoadElectronic CityE...\n",
       "04    ChandkhedaSector 48KalbadeviElectronic CityEle...\n",
       "Name: home_locality, dtype: object"
      ]
     },
     "execution_count": 16,
     "metadata": {},
     "output_type": "execute_result"
    }
   ],
   "source": [
    "locality_hour= df['home_locality'].groupby(hours).sum()\n",
    "locality_hour.head()"
   ]
  },
  {
   "cell_type": "code",
   "execution_count": 17,
   "metadata": {},
   "outputs": [],
   "source": [
    "# how to print the long text completely in series ?\n",
    "\n",
    "pd.options.display.max_colwidth = 100"
   ]
  },
  {
   "cell_type": "code",
   "execution_count": 18,
   "metadata": {},
   "outputs": [],
   "source": [
    "# pd.DataFrame(locality_hour)"
   ]
  },
  {
   "cell_type": "code",
   "execution_count": 19,
   "metadata": {},
   "outputs": [
    {
     "data": {
      "text/html": [
       "<div>\n",
       "<style scoped>\n",
       "    .dataframe tbody tr th:only-of-type {\n",
       "        vertical-align: middle;\n",
       "    }\n",
       "\n",
       "    .dataframe tbody tr th {\n",
       "        vertical-align: top;\n",
       "    }\n",
       "\n",
       "    .dataframe thead th {\n",
       "        text-align: right;\n",
       "    }\n",
       "</style>\n",
       "<table border=\"1\" class=\"dataframe\">\n",
       "  <thead>\n",
       "    <tr style=\"text-align: right;\">\n",
       "      <th></th>\n",
       "      <th>home_locality</th>\n",
       "    </tr>\n",
       "    <tr>\n",
       "      <th>time</th>\n",
       "      <th></th>\n",
       "    </tr>\n",
       "  </thead>\n",
       "  <tbody>\n",
       "    <tr>\n",
       "      <td>12</td>\n",
       "      <td>Sector 42Sector 12 AAlipurBorivali WestNajafgarhMahipalpurSector 3BTMKudlu GateMG RoadVikaspuriD...</td>\n",
       "    </tr>\n",
       "    <tr>\n",
       "      <td>13</td>\n",
       "      <td>ChamarajpetBanjara HillsManikondaMajnu ka TilaRajarajeshwari NagarKudlu GateWagle Estate, Thane ...</td>\n",
       "    </tr>\n",
       "    <tr>\n",
       "      <td>14</td>\n",
       "      <td>MahadevapuraKurlaHitech CitySector 24JeedimetlaKammanahalliPrashant ViharDundaheraSector 27LoniS...</td>\n",
       "    </tr>\n",
       "    <tr>\n",
       "      <td>15</td>\n",
       "      <td>HBR LayoutSector 23ChamarajpetSector 34BTMNehru GroundSwargateAndheri WestSector 70Lado SaraiWil...</td>\n",
       "    </tr>\n",
       "    <tr>\n",
       "      <td>16</td>\n",
       "      <td>BTMHAL AllRaj NagarDLF Phase 3Kempegowda International AirportBavdhanSector 17Sector 25Kalyan Ea...</td>\n",
       "    </tr>\n",
       "  </tbody>\n",
       "</table>\n",
       "</div>"
      ],
      "text/plain": [
       "                                                                                            home_locality\n",
       "time                                                                                                     \n",
       "12    Sector 42Sector 12 AAlipurBorivali WestNajafgarhMahipalpurSector 3BTMKudlu GateMG RoadVikaspuriD...\n",
       "13    ChamarajpetBanjara HillsManikondaMajnu ka TilaRajarajeshwari NagarKudlu GateWagle Estate, Thane ...\n",
       "14    MahadevapuraKurlaHitech CitySector 24JeedimetlaKammanahalliPrashant ViharDundaheraSector 27LoniS...\n",
       "15    HBR LayoutSector 23ChamarajpetSector 34BTMNehru GroundSwargateAndheri WestSector 70Lado SaraiWil...\n",
       "16    BTMHAL AllRaj NagarDLF Phase 3Kempegowda International AirportBavdhanSector 17Sector 25Kalyan Ea..."
      ]
     },
     "execution_count": 19,
     "metadata": {},
     "output_type": "execute_result"
    }
   ],
   "source": [
    "locality_hour12_16= df['home_locality'].groupby(hours).sum()\n",
    "hr12_16pm= pd.DataFrame(locality_hour12_16[12:17])\n",
    "hr12_16pm.head()"
   ]
  },
  {
   "cell_type": "code",
   "execution_count": 20,
   "metadata": {},
   "outputs": [
    {
     "data": {
      "text/html": [
       "<div>\n",
       "<style scoped>\n",
       "    .dataframe tbody tr th:only-of-type {\n",
       "        vertical-align: middle;\n",
       "    }\n",
       "\n",
       "    .dataframe tbody tr th {\n",
       "        vertical-align: top;\n",
       "    }\n",
       "\n",
       "    .dataframe thead th {\n",
       "        text-align: right;\n",
       "    }\n",
       "</style>\n",
       "<table border=\"1\" class=\"dataframe\">\n",
       "  <thead>\n",
       "    <tr style=\"text-align: right;\">\n",
       "      <th>time</th>\n",
       "      <th>12</th>\n",
       "      <th>13</th>\n",
       "      <th>14</th>\n",
       "      <th>15</th>\n",
       "      <th>16</th>\n",
       "    </tr>\n",
       "  </thead>\n",
       "  <tbody>\n",
       "    <tr>\n",
       "      <td>home_locality</td>\n",
       "      <td>Sector 42Sector 12 AAlipurBorivali WestNajafgarhMahipalpurSector 3BTMKudlu GateMG RoadVikaspuriD...</td>\n",
       "      <td>ChamarajpetBanjara HillsManikondaMajnu ka TilaRajarajeshwari NagarKudlu GateWagle Estate, Thane ...</td>\n",
       "      <td>MahadevapuraKurlaHitech CitySector 24JeedimetlaKammanahalliPrashant ViharDundaheraSector 27LoniS...</td>\n",
       "      <td>HBR LayoutSector 23ChamarajpetSector 34BTMNehru GroundSwargateAndheri WestSector 70Lado SaraiWil...</td>\n",
       "      <td>BTMHAL AllRaj NagarDLF Phase 3Kempegowda International AirportBavdhanSector 17Sector 25Kalyan Ea...</td>\n",
       "    </tr>\n",
       "  </tbody>\n",
       "</table>\n",
       "</div>"
      ],
      "text/plain": [
       "time                                                                                                            12  \\\n",
       "home_locality  Sector 42Sector 12 AAlipurBorivali WestNajafgarhMahipalpurSector 3BTMKudlu GateMG RoadVikaspuriD...   \n",
       "\n",
       "time                                                                                                            13  \\\n",
       "home_locality  ChamarajpetBanjara HillsManikondaMajnu ka TilaRajarajeshwari NagarKudlu GateWagle Estate, Thane ...   \n",
       "\n",
       "time                                                                                                            14  \\\n",
       "home_locality  MahadevapuraKurlaHitech CitySector 24JeedimetlaKammanahalliPrashant ViharDundaheraSector 27LoniS...   \n",
       "\n",
       "time                                                                                                            15  \\\n",
       "home_locality  HBR LayoutSector 23ChamarajpetSector 34BTMNehru GroundSwargateAndheri WestSector 70Lado SaraiWil...   \n",
       "\n",
       "time                                                                                                            16  \n",
       "home_locality  BTMHAL AllRaj NagarDLF Phase 3Kempegowda International AirportBavdhanSector 17Sector 25Kalyan Ea...  "
      ]
     },
     "execution_count": 20,
     "metadata": {},
     "output_type": "execute_result"
    }
   ],
   "source": [
    "hr12_16pm.T.head()"
   ]
  },
  {
   "cell_type": "code",
   "execution_count": 21,
   "metadata": {},
   "outputs": [],
   "source": [
    "# hr12pm.values.nunique()\n",
    "\n",
    "# unique, counts= numpy.unique(hr12pm, return_counts= True)\n",
    "# dict(zip(unique, counts))"
   ]
  },
  {
   "cell_type": "code",
   "execution_count": 22,
   "metadata": {},
   "outputs": [],
   "source": [
    "# ROugh!!\n",
    "\n",
    "# import numpy\n",
    "\n",
    "# a = numpy.array(['aa', 3, 0, 1, 0, 1, 2, 'aa', 0, 0, 0, 0, 1, 3, 4])\n",
    "# unique, counts = numpy.unique(a, return_counts=True)\n",
    "# dict(zip(unique, counts))"
   ]
  },
  {
   "cell_type": "code",
   "execution_count": 23,
   "metadata": {},
   "outputs": [
    {
     "data": {
      "text/plain": [
       "BTM                  7182\n",
       "Marathahalli         4309\n",
       "Electronic City      4167\n",
       "Uttam Nagar          3894\n",
       "Brookefield          3631\n",
       "Bannerghatta Road    3286\n",
       "Basavanagudi         3057\n",
       "Koramangala          2980\n",
       "Jayanagar            2895\n",
       "Banashankari         2407\n",
       "Name: home_locality, dtype: int64"
      ]
     },
     "execution_count": 23,
     "metadata": {},
     "output_type": "execute_result"
    }
   ],
   "source": [
    "# Top 10 home locality!\n",
    "\n",
    "hm_loc= df['home_locality'].value_counts()\n",
    "hm_loc = hm_loc[0:10]\n",
    "hm_loc"
   ]
  },
  {
   "cell_type": "code",
   "execution_count": 24,
   "metadata": {},
   "outputs": [
    {
     "data": {
      "image/png": "[encoded data removed]",
      "text/plain": [
       "<Figure size 432x288 with 1 Axes>"
      ]
     },
     "metadata": {
      "needs_background": "light"
     },
     "output_type": "display_data"
    }
   ],
   "source": [
    "hm_loc.plot(kind= 'bar')\n",
    "plt.xticks(rotation='vertical', size=10)\n",
    "plt.show()"
   ]
  },
  {
   "cell_type": "code",
   "execution_count": 25,
   "metadata": {
    "scrolled": false
   },
   "outputs": [
    {
     "data": {
      "text/plain": [
       "BTM                  5568\n",
       "Electronic City      4510\n",
       "Brookefield          3844\n",
       "Jayanagar            3787\n",
       "Marathahalli         3700\n",
       "Koramangala          3510\n",
       "Basavanagudi         3206\n",
       "Sarjapur Road        2994\n",
       "Bannerghatta Road    2731\n",
       "Uttam Nagar          2721\n",
       "Name: work_locality, dtype: int64"
      ]
     },
     "execution_count": 25,
     "metadata": {},
     "output_type": "execute_result"
    }
   ],
   "source": [
    "wrk_loc= df['work_locality'].value_counts()\n",
    "wrk_loc.head(10)"
   ]
  },
  {
   "cell_type": "code",
   "execution_count": 26,
   "metadata": {},
   "outputs": [
    {
     "data": {
      "image/png": "[encoded data removed]",
      "text/plain": [
       "<Figure size 432x288 with 1 Axes>"
      ]
     },
     "metadata": {
      "needs_background": "light"
     },
     "output_type": "display_data"
    }
   ],
   "source": [
    "# plotting top 10 work localities!!\n",
    "\n",
    "wrk_loc = wrk_loc[0:10]\n",
    "wrk_loc.plot(kind= 'bar')\n",
    "plt.xticks(rotation='vertical', size=10)\n",
    "plt.show()"
   ]
  },
  {
   "cell_type": "code",
   "execution_count": 27,
   "metadata": {},
   "outputs": [
    {
     "data": {
      "text/plain": [
       "Connaught Place (CP)    6381\n",
       "Koramangala             6196\n",
       "Jayanagar               5577\n",
       "BTM                     5369\n",
       "Whitefield              4233\n",
       "Sector 18               4137\n",
       "Electronic City         3799\n",
       "DLF Cyber City          3735\n",
       "Marathahalli            3663\n",
       "MG Road                 3535\n",
       "Name: trxn_locality, dtype: int64"
      ]
     },
     "execution_count": 27,
     "metadata": {},
     "output_type": "execute_result"
    }
   ],
   "source": [
    "trx_loc= df['trxn_locality'].value_counts()\n",
    "trx_loc.head(10)"
   ]
  },
  {
   "cell_type": "code",
   "execution_count": 28,
   "metadata": {},
   "outputs": [
    {
     "data": {
      "image/png": "[encoded data removed]",
      "text/plain": [
       "<Figure size 432x288 with 1 Axes>"
      ]
     },
     "metadata": {
      "needs_background": "light"
     },
     "output_type": "display_data"
    }
   ],
   "source": [
    "# plotting top 10 transaction localities!!\n",
    "\n",
    "trx_loc = trx_loc[0:10]\n",
    "trx_loc.plot(kind= 'bar')\n",
    "plt.xticks(rotation='vertical', size=10)\n",
    "plt.show()"
   ]
  },
  {
   "cell_type": "code",
   "execution_count": 29,
   "metadata": {},
   "outputs": [
    {
     "data": {
      "text/plain": [
       "20    27663\n",
       "21    27434\n",
       "19    24376\n",
       "14    21387\n",
       "18    19891\n",
       "Name: time, dtype: int64"
      ]
     },
     "execution_count": 29,
     "metadata": {},
     "output_type": "execute_result"
    }
   ],
   "source": [
    "hours.value_counts().head()"
   ]
  },
  {
   "cell_type": "code",
   "execution_count": null,
   "metadata": {},
   "outputs": [],
   "source": []
  },
  {
   "cell_type": "code",
   "execution_count": 30,
   "metadata": {},
   "outputs": [],
   "source": [
    "# hours[12:16].value_counts.groupby(trx_loc.values[:4]).sum()\n",
    "\n",
    "# # hours.value_counts()"
   ]
  },
  {
   "cell_type": "code",
   "execution_count": 31,
   "metadata": {},
   "outputs": [
    {
     "data": {
      "text/plain": [
       "12     9982\n",
       "13    16613\n",
       "14    21387\n",
       "15    18920\n",
       "16    17675\n",
       "Name: time, dtype: int64"
      ]
     },
     "execution_count": 31,
     "metadata": {},
     "output_type": "execute_result"
    }
   ],
   "source": [
    "t= hours.value_counts()\n",
    "x= t.loc[['12','13', '14', '15', '16']]\n",
    "x"
   ]
  },
  {
   "cell_type": "code",
   "execution_count": 32,
   "metadata": {},
   "outputs": [
    {
     "data": {
      "text/plain": [
       "<matplotlib.axes._subplots.AxesSubplot at 0x18ce29cf1c8>"
      ]
     },
     "execution_count": 32,
     "metadata": {},
     "output_type": "execute_result"
    },
    {
     "data": {
      "image/png": "[encoded data removed]",
      "text/plain": [
       "<Figure size 432x288 with 1 Axes>"
      ]
     },
     "metadata": {
      "needs_background": "light"
     },
     "output_type": "display_data"
    }
   ],
   "source": [
    "hours.value_counts().plot(kind='bar')"
   ]
  },
  {
   "cell_type": "code",
   "execution_count": 33,
   "metadata": {},
   "outputs": [
    {
     "data": {
      "text/plain": [
       "Text(0, 0.5, 'frequency')"
      ]
     },
     "execution_count": 33,
     "metadata": {},
     "output_type": "execute_result"
    },
    {
     "data": {
      "image/png": "[encoded data removed]",
      "text/plain": [
       "<Figure size 432x288 with 1 Axes>"
      ]
     },
     "metadata": {
      "needs_background": "light"
     },
     "output_type": "display_data"
    }
   ],
   "source": [
    "x.plot(kind='bar')\n",
    "plt.xlabel('time')\n",
    "plt.ylabel('frequency')"
   ]
  },
  {
   "cell_type": "code",
   "execution_count": 34,
   "metadata": {},
   "outputs": [
    {
     "data": {
      "text/plain": [
       "16915.4"
      ]
     },
     "execution_count": 34,
     "metadata": {},
     "output_type": "execute_result"
    }
   ],
   "source": [
    "x.values.mean()"
   ]
  },
  {
   "cell_type": "markdown",
   "metadata": {},
   "source": [
    "So during the 12 pm to 16 pm the average number of times the customers reach to our service is around 16,915 times!"
   ]
  },
  {
   "cell_type": "code",
   "execution_count": 35,
   "metadata": {
    "scrolled": true
   },
   "outputs": [
    {
     "data": {
      "text/plain": [
       "<matplotlib.axes._subplots.AxesSubplot at 0x18ce2889248>"
      ]
     },
     "execution_count": 35,
     "metadata": {},
     "output_type": "execute_result"
    },
    {
     "data": {
      "image/png": "[encoded data removed]",
      "text/plain": [
       "<Figure size 432x288 with 1 Axes>"
      ]
     },
     "metadata": {
      "needs_background": "light"
     },
     "output_type": "display_data"
    }
   ],
   "source": [
    "x.plot()"
   ]
  },
  {
   "cell_type": "markdown",
   "metadata": {},
   "source": [
    "##### So we can say from our data insights that most of the transactions done from the top 10 localities:\n",
    "\n",
    "1) Cannaught Place (CP)\n",
    "2) Koramangala \n",
    "3) Jayanagar \n",
    "4) BTM\n",
    "5) Whitefield\n",
    "6) Sector 18\n",
    "7) Electronics City\n",
    "8) DLF Cyber city\n",
    "9) marathahalli\n",
    "10) MG Road\n",
    "\n",
    "##### And From 12 pm to 16 pm the best localities to promote our promotions will be in localities of Cannaught Palace, BTM, , Jayanagar and Koramangla"
   ]
  },
  {
   "cell_type": "markdown",
   "metadata": {},
   "source": [
    "## 2) In which localities should magcipin push to acquire more users i.e. where is magicpin getting more business but not getting new users. Name 10 such localities and share the step by step approach for the same?"
   ]
  },
  {
   "cell_type": "code",
   "execution_count": 36,
   "metadata": {},
   "outputs": [
    {
     "name": "stdout",
     "output_type": "stream",
     "text": [
      "top 10:  Connaught Place (CP)    6381\n",
      "Koramangala             6196\n",
      "Jayanagar               5577\n",
      "BTM                     5369\n",
      "Whitefield              4233\n",
      "Sector 18               4137\n",
      "Electronic City         3799\n",
      "DLF Cyber City          3735\n",
      "Marathahalli            3663\n",
      "MG Road                 3535\n",
      "Name: trxn_locality, dtype: int64\n",
      "\n",
      "\n",
      "least 10:  Landour           1\n",
      "pitampura         1\n",
      "Vettuvankeni      1\n",
      "Lavasa            1\n",
      "Aurangzeb Road    1\n",
      "Mayakund          1\n",
      "Phase 11          1\n",
      "Trilokpuri        1\n",
      "GTB nagar         1\n",
      "Dhalpur           1\n",
      "Name: trxn_locality, dtype: int64\n"
     ]
    }
   ],
   "source": [
    "trx_loc= df['trxn_locality'].value_counts()\n",
    "print('top 10: ', trx_loc.head(10))\n",
    "print('\\n')\n",
    "\n",
    "print('least 10: ', trx_loc.tail(10))"
   ]
  },
  {
   "cell_type": "code",
   "execution_count": 37,
   "metadata": {},
   "outputs": [
    {
     "data": {
      "text/plain": [
       "(array([0., 1., 2., 3., 4., 5., 6., 7., 8., 9.]),\n",
       " <a list of 10 Text xticklabel objects>)"
      ]
     },
     "execution_count": 37,
     "metadata": {},
     "output_type": "execute_result"
    },
    {
     "data": {
      "image/png": "[encoded data removed]",
      "text/plain": [
       "<Figure size 432x288 with 1 Axes>"
      ]
     },
     "metadata": {
      "needs_background": "light"
     },
     "output_type": "display_data"
    }
   ],
   "source": [
    "trx_loc_plt= trx_loc[:10]\n",
    "\n",
    "trx_loc_plt.plot()\n",
    "plt.xticks(rotation='vertical', size=10)"
   ]
  },
  {
   "cell_type": "markdown",
   "metadata": {},
   "source": [
    "Number of times transaction occured in each locality!\n",
    "max is in Cannaught Paalce, and lowest is in Library Road"
   ]
  },
  {
   "cell_type": "code",
   "execution_count": 38,
   "metadata": {},
   "outputs": [
    {
     "data": {
      "text/plain": [
       "0    222668\n",
       "1     24923\n",
       "Name: first transaction?, dtype: int64"
      ]
     },
     "execution_count": 38,
     "metadata": {},
     "output_type": "execute_result"
    }
   ],
   "source": [
    "df['first transaction?'].value_counts()\n",
    "\n",
    "# 1 mean first transaction, 0 means not first transaction!"
   ]
  },
  {
   "cell_type": "code",
   "execution_count": 39,
   "metadata": {},
   "outputs": [
    {
     "data": {
      "text/plain": [
       "trxn_locality\n",
       "A S Rao Nagar      5633.00\n",
       "Aaya Nagar        66393.65\n",
       "Abids            170359.40\n",
       "Adarsh Nagar      82770.55\n",
       "Adchini           31452.00\n",
       "Name: bill size, dtype: float64"
      ]
     },
     "execution_count": 39,
     "metadata": {},
     "output_type": "execute_result"
    }
   ],
   "source": [
    "bill_txn= df['bill size'].groupby(df['trxn_locality']).sum()\n",
    "bill_txn.head()"
   ]
  },
  {
   "cell_type": "code",
   "execution_count": 40,
   "metadata": {},
   "outputs": [
    {
     "data": {
      "text/plain": [
       "[2979402.129999999,\n",
       " 2980735.4400000013,\n",
       " 3216833.1399999997,\n",
       " 3392528.110000001,\n",
       " 4138985.7700000005,\n",
       " 4616727.339999997,\n",
       " 4882715.62,\n",
       " 4905217.719999995,\n",
       " 5530471.830000004,\n",
       " 6311005.869999999]"
      ]
     },
     "execution_count": 40,
     "metadata": {},
     "output_type": "execute_result"
    }
   ],
   "source": [
    "sorted(bill_txn)[-10:]"
   ]
  },
  {
   "cell_type": "code",
   "execution_count": 41,
   "metadata": {},
   "outputs": [
    {
     "data": {
      "text/plain": [
       "trxn_locality\n",
       "Connaught Place (CP)    6311005.87\n",
       "Koramangala             5530471.83\n",
       "Sector 18               4905217.72\n",
       "Jayanagar               4882715.62\n",
       "MG Road                 4616727.34\n",
       "Marathahalli            4138985.77\n",
       "BTM                     3392528.11\n",
       "Whitefield              3216833.14\n",
       "DLF Cyber City          2980735.44\n",
       "JP Nagar                2979402.13\n",
       "Name: bill size, dtype: float64"
      ]
     },
     "execution_count": 41,
     "metadata": {},
     "output_type": "execute_result"
    }
   ],
   "source": [
    "# top 10 localities with more businesses!!\n",
    "bill_txn.sort_values(ascending= False)[:10]"
   ]
  },
  {
   "cell_type": "code",
   "execution_count": 42,
   "metadata": {},
   "outputs": [
    {
     "data": {
      "text/plain": [
       "trxn_locality\n",
       "Connaught Place (CP)    6311005.87\n",
       "Koramangala             5530471.83\n",
       "Sector 18               4905217.72\n",
       "Jayanagar               4882715.62\n",
       "MG Road                 4616727.34\n",
       "Marathahalli            4138985.77\n",
       "BTM                     3392528.11\n",
       "Whitefield              3216833.14\n",
       "DLF Cyber City          2980735.44\n",
       "JP Nagar                2979402.13\n",
       "Name: bill size, dtype: float64"
      ]
     },
     "execution_count": 42,
     "metadata": {},
     "output_type": "execute_result"
    }
   ],
   "source": [
    "plt_bill_txn=  bill_txn.sort_values(ascending= False)[:10]\n",
    "plt_bill_txn"
   ]
  },
  {
   "cell_type": "code",
   "execution_count": 43,
   "metadata": {},
   "outputs": [
    {
     "data": {
      "text/plain": [
       "(array([0., 1., 2., 3., 4., 5., 6., 7., 8., 9.]),\n",
       " <a list of 10 Text xticklabel objects>)"
      ]
     },
     "execution_count": 43,
     "metadata": {},
     "output_type": "execute_result"
    },
    {
     "data": {
      "image/png": "[encoded data removed]",
      "text/plain": [
       "<Figure size 432x288 with 1 Axes>"
      ]
     },
     "metadata": {
      "needs_background": "light"
     },
     "output_type": "display_data"
    }
   ],
   "source": [
    "plt_bill_txn.plot(kind= 'line')\n",
    "plt.xticks(rotation='vertical', size=10)"
   ]
  },
  {
   "cell_type": "markdown",
   "metadata": {},
   "source": [
    "MAximum transaction amount occur in cannaught paalace with bill size around 6311005 rupees! and the top 5 localities with bill size are :\n",
    "\n",
    "Connaught Place (CP)    6311005.87\n",
    "\n",
    "Koramangala             5530471.83\n",
    "\n",
    "Sector 18               4905217.72\n",
    "\n",
    "Jayanagar               4882715.62\n",
    "\n",
    "MG Road                 4616727.34\n",
    "\n",
    "Marathahalli            4138985.77\n",
    "\n",
    "BTM                     3392528.11\n",
    "\n",
    "Whitefield              3216833.14\n",
    "\n",
    "DLF Cyber City          2980735.44\n",
    "\n",
    "JP Nagar                2979402.13\n"
   ]
  },
  {
   "cell_type": "code",
   "execution_count": 44,
   "metadata": {},
   "outputs": [],
   "source": [
    "# df['trxn_locality'].groupby(df['first transaction?'])"
   ]
  },
  {
   "cell_type": "code",
   "execution_count": 45,
   "metadata": {},
   "outputs": [
    {
     "data": {
      "text/plain": [
       "0    222668\n",
       "1     24923\n",
       "Name: first transaction?, dtype: int64"
      ]
     },
     "execution_count": 45,
     "metadata": {},
     "output_type": "execute_result"
    }
   ],
   "source": [
    "df['first transaction?'].value_counts()"
   ]
  },
  {
   "cell_type": "code",
   "execution_count": 46,
   "metadata": {},
   "outputs": [
    {
     "data": {
      "text/html": [
       "<div>\n",
       "<style scoped>\n",
       "    .dataframe tbody tr th:only-of-type {\n",
       "        vertical-align: middle;\n",
       "    }\n",
       "\n",
       "    .dataframe tbody tr th {\n",
       "        vertical-align: top;\n",
       "    }\n",
       "\n",
       "    .dataframe thead th {\n",
       "        text-align: right;\n",
       "    }\n",
       "</style>\n",
       "<table border=\"1\" class=\"dataframe\">\n",
       "  <thead>\n",
       "    <tr style=\"text-align: right;\">\n",
       "      <th></th>\n",
       "      <th>first transaction?</th>\n",
       "      <th>trxn_locality</th>\n",
       "    </tr>\n",
       "  </thead>\n",
       "  <tbody>\n",
       "    <tr>\n",
       "      <td>0</td>\n",
       "      <td>0</td>\n",
       "      <td>Sector 18</td>\n",
       "    </tr>\n",
       "    <tr>\n",
       "      <td>1</td>\n",
       "      <td>0</td>\n",
       "      <td>Sector 45</td>\n",
       "    </tr>\n",
       "    <tr>\n",
       "      <td>2</td>\n",
       "      <td>1</td>\n",
       "      <td>Sector 18</td>\n",
       "    </tr>\n",
       "    <tr>\n",
       "      <td>3</td>\n",
       "      <td>0</td>\n",
       "      <td>Ashok Vihar</td>\n",
       "    </tr>\n",
       "    <tr>\n",
       "      <td>4</td>\n",
       "      <td>0</td>\n",
       "      <td>Saket</td>\n",
       "    </tr>\n",
       "    <tr>\n",
       "      <td>...</td>\n",
       "      <td>...</td>\n",
       "      <td>...</td>\n",
       "    </tr>\n",
       "    <tr>\n",
       "      <td>247586</td>\n",
       "      <td>0</td>\n",
       "      <td>Sinhgad Road</td>\n",
       "    </tr>\n",
       "    <tr>\n",
       "      <td>247587</td>\n",
       "      <td>1</td>\n",
       "      <td>DLF Phase 3</td>\n",
       "    </tr>\n",
       "    <tr>\n",
       "      <td>247588</td>\n",
       "      <td>0</td>\n",
       "      <td>Bannerghatta Road</td>\n",
       "    </tr>\n",
       "    <tr>\n",
       "      <td>247589</td>\n",
       "      <td>0</td>\n",
       "      <td>Magarpatta</td>\n",
       "    </tr>\n",
       "    <tr>\n",
       "      <td>247590</td>\n",
       "      <td>0</td>\n",
       "      <td>FC Road</td>\n",
       "    </tr>\n",
       "  </tbody>\n",
       "</table>\n",
       "<p>247591 rows × 2 columns</p>\n",
       "</div>"
      ],
      "text/plain": [
       "        first transaction?      trxn_locality\n",
       "0                        0          Sector 18\n",
       "1                        0          Sector 45\n",
       "2                        1          Sector 18\n",
       "3                        0        Ashok Vihar\n",
       "4                        0              Saket\n",
       "...                    ...                ...\n",
       "247586                   0       Sinhgad Road\n",
       "247587                   1        DLF Phase 3\n",
       "247588                   0  Bannerghatta Road\n",
       "247589                   0         Magarpatta\n",
       "247590                   0            FC Road\n",
       "\n",
       "[247591 rows x 2 columns]"
      ]
     },
     "execution_count": 46,
     "metadata": {},
     "output_type": "execute_result"
    }
   ],
   "source": [
    "df[['first transaction?', 'trxn_locality']]\n"
   ]
  },
  {
   "cell_type": "code",
   "execution_count": 47,
   "metadata": {},
   "outputs": [
    {
     "data": {
      "text/plain": [
       "1706"
      ]
     },
     "execution_count": 47,
     "metadata": {},
     "output_type": "execute_result"
    }
   ],
   "source": [
    "df.groupby(['first transaction?', 'trxn_locality']).ngroups"
   ]
  },
  {
   "cell_type": "code",
   "execution_count": 48,
   "metadata": {
    "scrolled": false
   },
   "outputs": [
    {
     "data": {
      "text/html": [
       "<div>\n",
       "<style scoped>\n",
       "    .dataframe tbody tr th:only-of-type {\n",
       "        vertical-align: middle;\n",
       "    }\n",
       "\n",
       "    .dataframe tbody tr th {\n",
       "        vertical-align: top;\n",
       "    }\n",
       "\n",
       "    .dataframe thead th {\n",
       "        text-align: right;\n",
       "    }\n",
       "</style>\n",
       "<table border=\"1\" class=\"dataframe\">\n",
       "  <thead>\n",
       "    <tr style=\"text-align: right;\">\n",
       "      <th></th>\n",
       "      <th>ID</th>\n",
       "      <th>customer_id</th>\n",
       "      <th>merchant_id</th>\n",
       "      <th>merchant_name</th>\n",
       "      <th>home_locality</th>\n",
       "      <th>work_locality</th>\n",
       "      <th>date</th>\n",
       "      <th>time</th>\n",
       "      <th>first transaction?</th>\n",
       "      <th>funding trxn?</th>\n",
       "      <th>bill size</th>\n",
       "      <th>cashback</th>\n",
       "      <th>followers</th>\n",
       "    </tr>\n",
       "    <tr>\n",
       "      <th>trxn_locality</th>\n",
       "      <th></th>\n",
       "      <th></th>\n",
       "      <th></th>\n",
       "      <th></th>\n",
       "      <th></th>\n",
       "      <th></th>\n",
       "      <th></th>\n",
       "      <th></th>\n",
       "      <th></th>\n",
       "      <th></th>\n",
       "      <th></th>\n",
       "      <th></th>\n",
       "      <th></th>\n",
       "    </tr>\n",
       "  </thead>\n",
       "  <tbody>\n",
       "    <tr>\n",
       "      <td>A S Rao Nagar</td>\n",
       "      <td>8</td>\n",
       "      <td>8</td>\n",
       "      <td>8</td>\n",
       "      <td>8</td>\n",
       "      <td>8</td>\n",
       "      <td>8</td>\n",
       "      <td>8</td>\n",
       "      <td>8</td>\n",
       "      <td>8</td>\n",
       "      <td>8</td>\n",
       "      <td>8</td>\n",
       "      <td>8</td>\n",
       "      <td>8</td>\n",
       "    </tr>\n",
       "    <tr>\n",
       "      <td>Aaya Nagar</td>\n",
       "      <td>80</td>\n",
       "      <td>80</td>\n",
       "      <td>80</td>\n",
       "      <td>80</td>\n",
       "      <td>80</td>\n",
       "      <td>80</td>\n",
       "      <td>80</td>\n",
       "      <td>80</td>\n",
       "      <td>80</td>\n",
       "      <td>80</td>\n",
       "      <td>80</td>\n",
       "      <td>80</td>\n",
       "      <td>80</td>\n",
       "    </tr>\n",
       "    <tr>\n",
       "      <td>Abids</td>\n",
       "      <td>137</td>\n",
       "      <td>137</td>\n",
       "      <td>137</td>\n",
       "      <td>137</td>\n",
       "      <td>137</td>\n",
       "      <td>137</td>\n",
       "      <td>137</td>\n",
       "      <td>137</td>\n",
       "      <td>137</td>\n",
       "      <td>137</td>\n",
       "      <td>137</td>\n",
       "      <td>137</td>\n",
       "      <td>137</td>\n",
       "    </tr>\n",
       "    <tr>\n",
       "      <td>Adarsh Nagar</td>\n",
       "      <td>87</td>\n",
       "      <td>87</td>\n",
       "      <td>87</td>\n",
       "      <td>87</td>\n",
       "      <td>87</td>\n",
       "      <td>87</td>\n",
       "      <td>87</td>\n",
       "      <td>87</td>\n",
       "      <td>87</td>\n",
       "      <td>87</td>\n",
       "      <td>87</td>\n",
       "      <td>87</td>\n",
       "      <td>87</td>\n",
       "    </tr>\n",
       "    <tr>\n",
       "      <td>Adchini</td>\n",
       "      <td>23</td>\n",
       "      <td>23</td>\n",
       "      <td>23</td>\n",
       "      <td>23</td>\n",
       "      <td>23</td>\n",
       "      <td>23</td>\n",
       "      <td>23</td>\n",
       "      <td>23</td>\n",
       "      <td>23</td>\n",
       "      <td>23</td>\n",
       "      <td>23</td>\n",
       "      <td>23</td>\n",
       "      <td>23</td>\n",
       "    </tr>\n",
       "  </tbody>\n",
       "</table>\n",
       "</div>"
      ],
      "text/plain": [
       "                ID  customer_id  merchant_id  merchant_name  home_locality  \\\n",
       "trxn_locality                                                                \n",
       "A S Rao Nagar    8            8            8              8              8   \n",
       "Aaya Nagar      80           80           80             80             80   \n",
       "Abids          137          137          137            137            137   \n",
       "Adarsh Nagar    87           87           87             87             87   \n",
       "Adchini         23           23           23             23             23   \n",
       "\n",
       "               work_locality  date  time  first transaction?  funding trxn?  \\\n",
       "trxn_locality                                                                 \n",
       "A S Rao Nagar              8     8     8                   8              8   \n",
       "Aaya Nagar                80    80    80                  80             80   \n",
       "Abids                    137   137   137                 137            137   \n",
       "Adarsh Nagar              87    87    87                  87             87   \n",
       "Adchini                   23    23    23                  23             23   \n",
       "\n",
       "               bill size  cashback  followers  \n",
       "trxn_locality                                  \n",
       "A S Rao Nagar          8         8          8  \n",
       "Aaya Nagar            80        80         80  \n",
       "Abids                137       137        137  \n",
       "Adarsh Nagar          87        87         87  \n",
       "Adchini               23        23         23  "
      ]
     },
     "execution_count": 48,
     "metadata": {},
     "output_type": "execute_result"
    }
   ],
   "source": [
    "df.groupby(['trxn_locality']).count().head()"
   ]
  },
  {
   "cell_type": "code",
   "execution_count": 49,
   "metadata": {},
   "outputs": [
    {
     "data": {
      "text/plain": [
       "trxn_locality\n",
       "Connaught Place (CP)    1562\n",
       "Jayanagar                609\n",
       "BTM                      571\n",
       "FC Road                  546\n",
       "Koramangala              489\n",
       "                        ... \n",
       "Narayan Singh Circle       0\n",
       "Nayagaon                   0\n",
       "Neelangarai                0\n",
       "Netaji Nagar               0\n",
       "sector 14                  0\n",
       "Name: first transaction?, Length: 950, dtype: int64"
      ]
     },
     "execution_count": 49,
     "metadata": {},
     "output_type": "execute_result"
    }
   ],
   "source": [
    "first_trasanction_locality= df['first transaction?'].groupby(df['trxn_locality']).sum().sort_values(ascending= False)\n",
    "first_trasanction_locality"
   ]
  },
  {
   "cell_type": "markdown",
   "metadata": {},
   "source": [
    "first transaction is highest in Delhi Cannaught palace CP, Jayanaagr, BTM, FC Road GTB Naagr areas Andheri West and Ghotkopar East\n",
    "\n",
    "Connaught Place (CP)    1562\n",
    "Jayanagar                609\n",
    "BTM                      571\n",
    "FC Road                  546\n",
    "Koramangala              489\n",
    "GTB Nagar                432\n",
    "Garvebhavi Palya         364\n",
    "Andheri West             330\n",
    "Banashankari             320\n",
    "Ghatkopar East           312"
   ]
  },
  {
   "cell_type": "code",
   "execution_count": 50,
   "metadata": {
    "scrolled": true
   },
   "outputs": [
    {
     "data": {
      "text/plain": [
       "(array([0., 1., 2., 3., 4., 5., 6., 7., 8., 9.]),\n",
       " <a list of 10 Text xticklabel objects>)"
      ]
     },
     "execution_count": 50,
     "metadata": {},
     "output_type": "execute_result"
    },
    {
     "data": {
      "image/png": "[encoded data removed]",
      "text/plain": [
       "<Figure size 432x288 with 1 Axes>"
      ]
     },
     "metadata": {
      "needs_background": "light"
     },
     "output_type": "display_data"
    }
   ],
   "source": [
    "first_trasanction_locality[:10].plot()\n",
    "plt.xticks(rotation='vertical', size=10)"
   ]
  },
  {
   "cell_type": "markdown",
   "metadata": {},
   "source": [
    "#### first transaction is highest in Delhi Cannaught palace CP, Jayanaagr, BTM, FC Road GTB Naagr areas Andheri West\n",
    "\n",
    "##### and Sector 18 and Mg road have high business but less new users which is only 218 in sector 18 and 151 in MG road!!"
   ]
  },
  {
   "cell_type": "code",
   "execution_count": 51,
   "metadata": {},
   "outputs": [
    {
     "data": {
      "text/plain": [
       "817.4019645706026"
      ]
     },
     "execution_count": 51,
     "metadata": {},
     "output_type": "execute_result"
    }
   ],
   "source": [
    "df['bill size'].mean()\n",
    "\n",
    "# The average bill size of the customer uses the magicpipn service is 817 rupees!"
   ]
  },
  {
   "cell_type": "code",
   "execution_count": 52,
   "metadata": {},
   "outputs": [
    {
     "data": {
      "text/plain": [
       "378.0"
      ]
     },
     "execution_count": 52,
     "metadata": {},
     "output_type": "execute_result"
    }
   ],
   "source": [
    "df['bill size'].median()"
   ]
  },
  {
   "cell_type": "markdown",
   "metadata": {},
   "source": [
    "## 3)Repeat rate: Users who have done their first transaction today and does another transaction in the next 7 days(D7 repeat), Next 15 days(D15 repeat). What is the repeat rate of new users in the system, Share the stepwise approach you took?"
   ]
  },
  {
   "cell_type": "code",
   "execution_count": 53,
   "metadata": {},
   "outputs": [
    {
     "data": {
      "text/plain": [
       "customer_id\n",
       "1130580    127\n",
       "1136339     89\n",
       "994954      86\n",
       "114833      76\n",
       "1063810     75\n",
       "          ... \n",
       "1022665      1\n",
       "1022626      1\n",
       "1022621      1\n",
       "1022567      1\n",
       "958352       1\n",
       "Name: first transaction?, Length: 83105, dtype: int64"
      ]
     },
     "execution_count": 53,
     "metadata": {},
     "output_type": "execute_result"
    }
   ],
   "source": [
    "df['first transaction?'].groupby(df['customer_id']).count().sort_values(ascending= False)"
   ]
  },
  {
   "cell_type": "code",
   "execution_count": 54,
   "metadata": {},
   "outputs": [
    {
     "data": {
      "text/plain": [
       "customer_id\n",
       "1130580    127\n",
       "1136339     89\n",
       "994954      86\n",
       "114833      76\n",
       "1063810     75\n",
       "1129358     71\n",
       "1130596     70\n",
       "1057113     69\n",
       "1145166     68\n",
       "963326      66\n",
       "Name: first transaction?, dtype: int64"
      ]
     },
     "execution_count": 54,
     "metadata": {},
     "output_type": "execute_result"
    }
   ],
   "source": [
    "# top 10 customers with first trabsactions are:\n",
    "top_10cus= df['first transaction?'].groupby(df['customer_id']).count().sort_values(ascending= False)[:10]\n",
    "top_10cus"
   ]
  },
  {
   "cell_type": "code",
   "execution_count": 55,
   "metadata": {},
   "outputs": [
    {
     "data": {
      "text/plain": [
       "<matplotlib.axes._subplots.AxesSubplot at 0x18cded92648>"
      ]
     },
     "execution_count": 55,
     "metadata": {},
     "output_type": "execute_result"
    },
    {
     "data": {
      "image/png": "[encoded data removed]",
      "text/plain": [
       "<Figure size 432x288 with 1 Axes>"
      ]
     },
     "metadata": {
      "needs_background": "light"
     },
     "output_type": "display_data"
    }
   ],
   "source": [
    "top_10cus.plot(kind= 'bar')"
   ]
  },
  {
   "cell_type": "markdown",
   "metadata": {},
   "source": [
    "customer with customer id 1130580 is around 127 times, and id with 1136339 is 89 "
   ]
  },
  {
   "cell_type": "code",
   "execution_count": 56,
   "metadata": {},
   "outputs": [
    {
     "data": {
      "text/plain": [
       "customer_id\n",
       "1130580    127\n",
       "1136339     89\n",
       "994954      86\n",
       "114833      76\n",
       "1063810     75\n",
       "1129358     71\n",
       "1130596     70\n",
       "1057113     69\n",
       "1145166     68\n",
       "963326      66\n",
       "Name: first transaction?, dtype: int64"
      ]
     },
     "execution_count": 56,
     "metadata": {},
     "output_type": "execute_result"
    }
   ],
   "source": [
    "df['first transaction?'].groupby(df['customer_id']).count().sort_values(ascending= False)[:10]"
   ]
  },
  {
   "cell_type": "code",
   "execution_count": 57,
   "metadata": {},
   "outputs": [
    {
     "data": {
      "text/plain": [
       "first transaction?  customer_id\n",
       "0                   1130580        127\n",
       "                    1136339         88\n",
       "                    994954          86\n",
       "                    114833          76\n",
       "                    1063810         75\n",
       "                                  ... \n",
       "1                   1192420          1\n",
       "                    1192432          1\n",
       "                    1192441          1\n",
       "                    1192453          1\n",
       "                    1192475          1\n",
       "Name: customer_id, Length: 93631, dtype: int64"
      ]
     },
     "execution_count": 57,
     "metadata": {},
     "output_type": "execute_result"
    }
   ],
   "source": [
    "df['customer_id'].groupby(df['first transaction?']).value_counts(sort= True, ascending = False)"
   ]
  },
  {
   "cell_type": "markdown",
   "metadata": {},
   "source": [
    "from the above data of the first transaction and customer we can clearly see that maximum number of times a customer use the magicpin is 127 times so if we divide the maximum number by 7 days then it is repeating ina round 18 days consecutively\n",
    "\n",
    "and we cdivide the repeat rate by 15 days then in every 8 days the customer withi maximum transaction repeats!!\n",
    "\n",
    "and for avaergae customers the transaction repeats to every 10 days with 7 days repeatation and with repeatation of 15 days it will repeat in around every 5 days!!"
   ]
  },
  {
   "cell_type": "markdown",
   "metadata": {},
   "source": [
    "## 4)Based on the above observations, what will be your top 3 recommendations on increasing transactions on the platform and why?"
   ]
  },
  {
   "cell_type": "markdown",
   "metadata": {},
   "source": [
    "Some of myb recommendations will be :\n",
    "\n",
    "    1) Focus on the localitlites which have around the average transaction pay times will be provided promo codes and luring them to attract more to our services\n",
    "    \n",
    "    2) As I optimize the localities who have high transactions areas but have low new transacations should be more focussed with proper advertising of our products!! We should focus on advertizing our products to different restraurants to these areas and also tie up with different merchants to increase the reach of our service in these areas!!\n",
    "    \n",
    "    3) Providing cashback is not agood idea for long run so we should also focus on building the trust of the customers by providing secure money transfer with more transparencyy but we can provide some useful coupons according to the users last purshase patterns so that the user also enjooy the same coupons for future uses!!\n",
    "    \n",
    "    4) For the above recommendation we would also need to tie up with some bigb data e commerce company so that we can track oour users shopping preferences and accordinig to that we provide coupons for there relevant uses!!"
   ]
  },
  {
   "cell_type": "code",
   "execution_count": 58,
   "metadata": {},
   "outputs": [],
   "source": [
    "# pip install nbconvert"
   ]
  },
  {
   "cell_type": "code",
   "execution_count": null,
   "metadata": {},
   "outputs": [],
   "source": []
  },
  {
   "cell_type": "code",
   "execution_count": null,
   "metadata": {},
   "outputs": [],
   "source": []
  },
  {
   "cell_type": "code",
   "execution_count": null,
   "metadata": {},
   "outputs": [],
   "source": []
  }
 ],
 "metadata": {
  "kernelspec": {
   "display_name": "Python 3",
   "language": "python",
   "name": "python3"
  },
  "language_info": {
   "codemirror_mode": {
    "name": "ipython",
    "version": 3
   },
   "file_extension": ".py",
   "mimetype": "text/x-python",
   "name": "python",
   "nbconvert_exporter": "python",
   "pygments_lexer": "ipython3",
   "version": "3.7.4"
  }
 },
 "nbformat": 4,
 "nbformat_minor": 2
}
